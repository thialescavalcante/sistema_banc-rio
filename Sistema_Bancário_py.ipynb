{
  "cells": [
    {
      "cell_type": "markdown",
      "metadata": {
        "id": "view-in-github",
        "colab_type": "text"
      },
      "source": [
        "<a href=\"https://colab.research.google.com/github/thialescavalcante/sistema_banc-rio/blob/main/Sistema_Banc%C3%A1rio_py.ipynb\" target=\"_parent\"><img src=\"https://colab.research.google.com/assets/colab-badge.svg\" alt=\"Open In Colab\"/></a>"
      ]
    },
    {
      "cell_type": "markdown",
      "source": [
        "# Sistema Bancário\n"
      ],
      "metadata": {
        "id": "bGoTl2gPLQx5"
      }
    },
    {
      "cell_type": "markdown",
      "source": [
        "## Etapa 01\n"
      ],
      "metadata": {
        "id": "DnwH4KstLgPL"
      }
    },
    {
      "cell_type": "code",
      "source": [
        "# passo 1: Criar variaveis para representar o saldo e a opçãodo menu\n",
        "saldo = 0.0 # Saldo inicial (você pode alterar este valor)\n",
        "opcao = 0\n",
        "\n",
        "# passo 2: Exibir uma mensagem de boas-vindas e as opçoes do menu\n",
        "print (\"Olá! Bem vindo ao seu banco virtual.\")\n",
        "print (\"-----------------------------------.\")\n",
        "print (\"1 - Consultar Saldo\")\n",
        "print (\"2 - Depositar\")\n",
        "print (\"3 - Sacar\")\n",
        "print (\"4 - Sair\")\n",
        "print (\"-----------------------------------.\")\n",
        "\n",
        "# Passo 3: Ler a opção do usuário\n",
        "opcao_srt = input(\"Digite a opção desejada:\")\n",
        "\n",
        "# Passo 4: Validar a opção do usuário usando um laço while\n",
        "while not opcao_str.isdigit() or not (1 <= (opcao_str) <= 4):\n",
        "    print(\"Opção inválida. Por favor, digite uma opção válida.\")\n",
        "    opcao_str = input(\"Digite a opção desejada:\")\n",
        "\n",
        "opcao = int(opcao_str)\n",
        "\n",
        "# Aqui você pode adicionar a lógica para cada opção do menu\n",
        "if opcao == 1:\n",
        "  print(f\"Seu saldo é de R$ {saldo:.2f}\")\n",
        "elif opcao == 2:\n",
        "  valor_str = input(\"Digite o valor a ser depositado:\")\n",
        "  valor = float(valor_str)\n",
        "  saldo += valor\n",
        "  print(f\"Depósito de R$ {valor:.2f} realizado com sucesso.\")\n",
        "elif opcao == 3:\n",
        "  valor_str = input(\"Digite o valor a ser sacado:\")\n",
        "  valor = float(valor_str)\n",
        "  if valor <= saldo:\n",
        "          saldo -= valor\n",
        "          print(f\"Saque de R$ {valor:.2f} realizado com sucesso.\")\n",
        "  else:\n",
        "          print(\"Saldo insuficiente .\")\n",
        "elif opcao == 4:\n",
        "  print (\"Obrigado por utilizar nosso banco virtual!\")\n",
        "\n"
      ],
      "metadata": {
        "id": "Cuf6htHiLksl",
        "outputId": "4e1ec786-cffb-4d67-b0b7-c2b88d741dba",
        "colab": {
          "base_uri": "https://localhost:8080/"
        }
      },
      "execution_count": null,
      "outputs": [
        {
          "output_type": "stream",
          "name": "stdout",
          "text": [
            "Olá! Bem vindo ao seu banco virtual.\n",
            "-----------------------------------.\n",
            "1 - Consultar Saldo\n",
            "2 - Depositar\n",
            "3 - Sacar\n",
            "4 - Sair\n",
            "-----------------------------------.\n"
          ]
        }
      ]
    },
    {
      "cell_type": "markdown",
      "source": [
        "## Etapa 02"
      ],
      "metadata": {
        "id": "PDO9H-WQQ76U"
      }
    },
    {
      "cell_type": "code",
      "source": [
        "saldo = 1000.0 # Saldo inicial (você pode alterar este valor)\n",
        "\n",
        "def consultar_saldo():\n",
        "    \"\"\"Exibe o saldo atual\"\"\"\n",
        "    print(f\"Seu saldo é de R$ {saldo:.2f}\")\n",
        "\n",
        "def sacar ():\n",
        "  \"\"\"Realiza a operação de saque, verificando o saldo\"\"\"\n",
        "  global saldo # indica que estamos modificando a variavel global saldo\n",
        "  valor_saque = float(input(\"Digite o valor do saque:R$ \"))\n",
        "  if valor_saque <= saldo:\n",
        "    saldo -= valor_saque\n",
        "    print(f\"Saque de R$ {valor_saque:.2f} realizado com sucesso.\")\n",
        "  else:\n",
        "    print(\"Saldo insuficiente.\")\n",
        "\n",
        "def depositar():\n",
        "  \"\"\" Realiza a operação de deposito\"\"\"\n",
        "  global saldo # indica que estamos modificando a variavel global saldo\n",
        "  valor_deposito = float(input(\"Digite o valor a depositar: R$ \"))\n",
        "  saldo += valor_deposito\n",
        "  print(f\"Depósito de R$ {valor_deposito:.2f} realizado com sucesso.\")\n",
        "\n",
        "# Exibir mensagem de boas-vindas e a opção do menu\n",
        "print(\"Olá! Bem-vindo ao seu banco virtual.\")\n",
        "print(\"-----------------------------------.\")\n",
        "print(\"1 - Consultar Saldo\")\n",
        "print(\"2 - Depositar\")\n",
        "print(\"3 - Sacar\")\n",
        "print(\"4 - Sair\")\n",
        "print(\"-----------------------------------.\")\n",
        "\n",
        "# Ler a opção do usuário\n",
        "opcao_str = input(\"Digite a opção desejada: \")\n",
        "\n",
        "# Validar a opção do usuário usando um laço while\n",
        "while not opcao_str.isdigit() or not (1 <= int(opcao_str) <= 4):\n",
        "    print(\"Opção inválida. Por favor, digite um número entre 1 e 4.\")\n",
        "    opcao_str = input(\"Digite a opção desejada: \")\n",
        "\n",
        "opcao = int(opcao_str)\n",
        "\n",
        "# Aqui você pode adicionar a lógica para cada opção do menu\n",
        "if opcao == 1:\n",
        "  consultar_saldo()\n",
        "elif opcao == 2:\n",
        "  depositar()\n",
        "elif opcao == 3:\n",
        "  sacar()\n",
        "elif opcao == 4:\n",
        "  print('Obrigado por utilizar nosso banco virtual!')\n"
      ],
      "metadata": {
        "id": "CdwZ1sDfRDpB"
      },
      "execution_count": null,
      "outputs": []
    },
    {
      "cell_type": "markdown",
      "source": [
        "## Etapa 03"
      ],
      "metadata": {
        "id": "CUiOAazeTgTP"
      }
    },
    {
      "cell_type": "code",
      "source": [
        "saldo = 1000.0 # Saldo inicial (você pode alterar este valor)\n",
        "\n",
        "def consultar_saldo():\n",
        "    \"\"\"Exibe o saldo atual\"\"\"\n",
        "    print(f\"Seu saldo é de R$ {saldo:.2f}\")\n",
        "\n",
        "def sacar():\n",
        "  \"\"\"Realiza a operção de saque, verificando o saldo\"\"\"\n",
        "  global saldo # indica que estamos modificando a variavel global saldo\n",
        "  valor_saque = float(input(\"Digite o valor do saque: R$ \"))\n",
        "  if valor_saque <= saldo:\n",
        "    saldo -= valor_saque\n",
        "    print(f\"Saque de R$ {valor_saque:.2f} realizado com sucesso.\")\n",
        "  else:\n",
        "    print(\"Saldo insuficiente.\")\n",
        "\n",
        "def depositar():\n",
        "  \"\"\"Realiza a operação de deposito\"\"\"\n",
        "  global saldo # indica que estamos modificando a variavel global saldo\n",
        "  valor_deposito = float(input(\"Digite o valor a depositar: R$ \"))\n",
        "  saldo += valor_deposito\n",
        "  print(f\"Depósito de R$ {valor_deposito:.2f} realizado com sucesso.\")\n",
        "\n",
        "while True:\n",
        "    # Exibir mensagem de boas vindas e as opções do menu\n",
        "    print(\"Olá! Bem-vindo ao seu banco virtual.\")\n",
        "    print(\"-----------------------------------.\")\n",
        "    print(\"1 - Consultar Saldo\")\n",
        "    print(\"2 - Depositar\")\n",
        "    print(\"3 - Sacar\")\n",
        "    print(\"4 - Sair\")\n",
        "    print(\"-----------------------------------.\")\n",
        "\n",
        "    # Ler a opção do usuário\n",
        "    opcao_str = input(\"Digite a opção desejada: \")\n",
        "\n",
        "    # Validar a opção do usuário usando um laço whilw\n",
        "    while not opcao_str.isdigit() or not (1 <= int(opcao_str) <= 4):\n",
        "      print(\"Opção inválida. Por favor, digite um número entre 1 e 4.\")\n",
        "    opcao_str = input(\"Digite a opção desejada: \")\n",
        "\n",
        "    opcao = int(opcao_str)\n",
        "\n",
        "    # Executar a ação com base na opção do usuário\n",
        "    if opcao == 1:\n",
        "      consultar_saldo()\n",
        "    elif opcao == 2:\n",
        "      depositar()\n",
        "    elif opcao == 3:\n",
        "      sacar()\n",
        "    elif opcao == 4:\n",
        "      print(\"Obrigado por utilizar nosso banco virtual!\")\n",
        "      break"
      ],
      "metadata": {
        "id": "TDXOWt0HTjpp",
        "colab": {
          "base_uri": "https://localhost:8080/"
        },
        "outputId": "cf9d7b85-7b0f-42fc-e7c7-8a8a4410e745"
      },
      "execution_count": null,
      "outputs": [
        {
          "output_type": "stream",
          "name": "stdout",
          "text": [
            "Olá! Bem-vindo ao seu banco virtual.\n",
            "-----------------------------------.\n",
            "1 - Consultar Saldo\n",
            "2 - Depositar\n",
            "3 - Sacar\n",
            "4 - Sair\n",
            "-----------------------------------.\n",
            "Digite a opção desejada: 1\n",
            "Digite a opção desejada: 2\n",
            "Digite o valor a depositar: R$ 200\n",
            "Depósito de R$ 200.00 realizado com sucesso.\n",
            "Olá! Bem-vindo ao seu banco virtual.\n",
            "-----------------------------------.\n",
            "1 - Consultar Saldo\n",
            "2 - Depositar\n",
            "3 - Sacar\n",
            "4 - Sair\n",
            "-----------------------------------.\n",
            "Digite a opção desejada: 4\n",
            "Digite a opção desejada: 4\n",
            "Obrigado por utilizar nosso banco virtual!\n"
          ]
        }
      ]
    }
  ],
  "metadata": {
    "colab": {
      "toc_visible": true,
      "provenance": [],
      "include_colab_link": true
    },
    "kernelspec": {
      "display_name": "Python 3",
      "name": "python3"
    }
  },
  "nbformat": 4,
  "nbformat_minor": 0
}